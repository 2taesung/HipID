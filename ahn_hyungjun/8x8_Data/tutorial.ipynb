{
 "cells": [
  {
   "cell_type": "code",
   "execution_count": 18,
   "metadata": {},
   "outputs": [
    {
     "name": "stdout",
     "output_type": "stream",
     "text": [
      "k:\\\n",
      "K:\\GitHub\\HipID\\HipID\\ahn_hyungjun\n",
      "K:\\GitHub\\HipID\\HipID\\ahn_hyungjun\n"
     ]
    }
   ],
   "source": [
    "from pathlib import Path\n",
    "print(Path.cwd())\n",
    "%cd # 8x8_Data의 상위폴더로 설정해 주세요. (ex: ~~\\HipID\\ahn_hyungjun)\n",
    "print(Path.cwd())"
   ]
  },
  {
   "cell_type": "code",
   "execution_count": 20,
   "metadata": {},
   "outputs": [],
   "source": [
    "%run ./8x8_Data/split_csv_to_img  # 개인 폴더 내 모든 데이터를 8x8 csv로 분해합니다."
   ]
  },
  {
   "cell_type": "code",
   "execution_count": null,
   "metadata": {},
   "outputs": [],
   "source": [
    "from ResNet18 import Trainer\n",
    "\n",
    "\n",
    "trainer = Trainer(\n",
    "    lookup_table={\n",
    "        \"0001\": 0,\n",
    "        \"0002\": 1,\n",
    "        \"0003\": 2,\n",
    "    },\n",
    "    num_classes = 3,\n",
    "    in_channels = 1,  # Grayscale\n",
    "    train_batch_size = 128,\n",
    "    train_lr = 0.001,\n",
    "    train_epochs = 10,\n",
    "    )\n",
    "\n",
    "trainer.train(\n",
    "    device = 'cuda',  # 'cuda' or 'cpu'\n",
    "    pred_target = 'name'  # 'name' or 'pos'\n",
    ")"
   ]
  }
 ],
 "metadata": {
  "interpreter": {
   "hash": "d719af8e7c7ef0dfdc1efd1ac6ec32541b658b6048374e100a4b4680a6276f96"
  },
  "kernelspec": {
   "display_name": "Python 3.10.1 64-bit",
   "language": "python",
   "name": "python3"
  },
  "language_info": {
   "codemirror_mode": {
    "name": "ipython",
    "version": 3
   },
   "file_extension": ".py",
   "mimetype": "text/x-python",
   "name": "python",
   "nbconvert_exporter": "python",
   "pygments_lexer": "ipython3",
   "version": "3.10.1"
  },
  "orig_nbformat": 4
 },
 "nbformat": 4,
 "nbformat_minor": 2
}
